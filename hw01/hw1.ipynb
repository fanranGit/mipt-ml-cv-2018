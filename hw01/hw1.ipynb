{
 "cells": [
  {
   "cell_type": "code",
   "execution_count": 60,
   "metadata": {},
   "outputs": [],
   "source": [
    "import glob\n",
    "import json\n",
    "\n",
    "import pandas as pd\n",
    "import numpy as np\n",
    "from tqdm import tqdm_notebook as tqdm"
   ]
  },
  {
   "cell_type": "code",
   "execution_count": 61,
   "metadata": {},
   "outputs": [
    {
     "data": {
      "application/vnd.jupyter.widget-view+json": {
       "model_id": "f432d606cc64405ba7881d45cc561ab1",
       "version_major": 2,
       "version_minor": 0
      },
      "text/plain": [
       "HBox(children=(IntProgress(value=1, bar_style='info', max=1), HTML(value='')))"
      ]
     },
     "metadata": {},
     "output_type": "display_data"
    },
    {
     "name": "stdout",
     "output_type": "stream",
     "text": [
      "\n"
     ]
    }
   ],
   "source": [
    "df_cards = []\n",
    "all_records = []\n",
    "for filename in glob.glob('../input/*_JSON_*'):\n",
    "    with open(filename) as fin:\n",
    "        for record in tqdm(map(json.loads, fin)):\n",
    "            for card in record['player'].get('hand', []):\n",
    "                card['turn'] = record['turn']\n",
    "                card['gamestate_id'] = record['gamestate_id']\n",
    "                card['decision'] = record['decision']\n",
    "                card['hero'] = record['player']['hero']['hero_card_id']\n",
    "                df_cards.append(card)\n",
    "                all_records.append(record)\n",
    "df = pd.DataFrame.from_records(df_cards)"
   ]
  },
  {
   "cell_type": "code",
   "execution_count": 3,
   "metadata": {},
   "outputs": [],
   "source": [
    "heroes = {\n",
    "    25: 'shaman',\n",
    "    326: 'hunter',\n",
    "    390: 'warlock',\n",
    "    494: 'mage',\n",
    "    612: 'druid',\n",
    "    754: 'rogue',\n",
    "    798: 'priest',\n",
    "    981: 'paladin',\n",
    "    1235: 'warrior'\n",
    "}"
   ]
  },
  {
   "cell_type": "markdown",
   "metadata": {},
   "source": [
    "# Задание 1"
   ]
  },
  {
   "cell_type": "code",
   "execution_count": 44,
   "metadata": {},
   "outputs": [],
   "source": [
    "# get dataframe with [hero1, hero2, descision]\n",
    "all_rec_df = pd.DataFrame([(record['player']['hero']['hero_card_id'], record['opponent']['hero']['hero_card_id'], \n",
    "                            record['decision']) \n",
    "                           for record in all_records], columns=['hero1', 'hero2', 'decision'])"
   ]
  },
  {
   "cell_type": "code",
   "execution_count": 107,
   "metadata": {},
   "outputs": [],
   "source": [
    "#get winrates and rename table\n",
    "winrates = all_rec_df.groupby(['hero1', 'hero2'])['decision'].mean()#.groupby('hero2')['decision']\n",
    "winrates.name = 'winrate'"
   ]
  },
  {
   "cell_type": "code",
   "execution_count": 108,
   "metadata": {},
   "outputs": [],
   "source": [
    "# Unstack dataframe and rename heroes ids\n",
    "wr = pd.DataFrame(winrates).rename(heroes, level=0).rename(heroes, level=1).unstack()"
   ]
  },
  {
   "cell_type": "code",
   "execution_count": 109,
   "metadata": {},
   "outputs": [
    {
     "data": {
      "text/html": [
       "<div>\n",
       "<style scoped>\n",
       "    .dataframe tbody tr th:only-of-type {\n",
       "        vertical-align: middle;\n",
       "    }\n",
       "\n",
       "    .dataframe tbody tr th {\n",
       "        vertical-align: top;\n",
       "    }\n",
       "\n",
       "    .dataframe thead tr th {\n",
       "        text-align: left;\n",
       "    }\n",
       "\n",
       "    .dataframe thead tr:last-of-type th {\n",
       "        text-align: right;\n",
       "    }\n",
       "</style>\n",
       "<table border=\"1\" class=\"dataframe\">\n",
       "  <thead>\n",
       "    <tr>\n",
       "      <th></th>\n",
       "      <th colspan=\"9\" halign=\"left\">winrate</th>\n",
       "    </tr>\n",
       "    <tr>\n",
       "      <th>hero2</th>\n",
       "      <th>druid</th>\n",
       "      <th>hunter</th>\n",
       "      <th>mage</th>\n",
       "      <th>paladin</th>\n",
       "      <th>priest</th>\n",
       "      <th>rogue</th>\n",
       "      <th>shaman</th>\n",
       "      <th>warlock</th>\n",
       "      <th>warrior</th>\n",
       "    </tr>\n",
       "    <tr>\n",
       "      <th>hero1</th>\n",
       "      <th></th>\n",
       "      <th></th>\n",
       "      <th></th>\n",
       "      <th></th>\n",
       "      <th></th>\n",
       "      <th></th>\n",
       "      <th></th>\n",
       "      <th></th>\n",
       "      <th></th>\n",
       "    </tr>\n",
       "  </thead>\n",
       "  <tbody>\n",
       "    <tr>\n",
       "      <th>druid</th>\n",
       "      <td>0.481535</td>\n",
       "      <td>0.493059</td>\n",
       "      <td>0.499659</td>\n",
       "      <td>0.495676</td>\n",
       "      <td>0.493580</td>\n",
       "      <td>0.498933</td>\n",
       "      <td>0.481967</td>\n",
       "      <td>0.509310</td>\n",
       "      <td>0.500472</td>\n",
       "    </tr>\n",
       "    <tr>\n",
       "      <th>hunter</th>\n",
       "      <td>0.511360</td>\n",
       "      <td>0.484766</td>\n",
       "      <td>0.501777</td>\n",
       "      <td>0.502375</td>\n",
       "      <td>0.498902</td>\n",
       "      <td>0.497866</td>\n",
       "      <td>0.486868</td>\n",
       "      <td>0.493590</td>\n",
       "      <td>0.524871</td>\n",
       "    </tr>\n",
       "    <tr>\n",
       "      <th>mage</th>\n",
       "      <td>0.472710</td>\n",
       "      <td>0.490263</td>\n",
       "      <td>0.478505</td>\n",
       "      <td>0.500101</td>\n",
       "      <td>0.492019</td>\n",
       "      <td>0.495812</td>\n",
       "      <td>0.483165</td>\n",
       "      <td>0.480531</td>\n",
       "      <td>0.462521</td>\n",
       "    </tr>\n",
       "    <tr>\n",
       "      <th>paladin</th>\n",
       "      <td>0.481438</td>\n",
       "      <td>0.489381</td>\n",
       "      <td>0.509378</td>\n",
       "      <td>0.497768</td>\n",
       "      <td>0.513639</td>\n",
       "      <td>0.488758</td>\n",
       "      <td>0.485734</td>\n",
       "      <td>0.489486</td>\n",
       "      <td>0.476657</td>\n",
       "    </tr>\n",
       "    <tr>\n",
       "      <th>priest</th>\n",
       "      <td>0.510035</td>\n",
       "      <td>0.478049</td>\n",
       "      <td>0.506536</td>\n",
       "      <td>0.505544</td>\n",
       "      <td>0.511002</td>\n",
       "      <td>0.503174</td>\n",
       "      <td>0.498279</td>\n",
       "      <td>0.497251</td>\n",
       "      <td>0.485901</td>\n",
       "    </tr>\n",
       "    <tr>\n",
       "      <th>rogue</th>\n",
       "      <td>0.480907</td>\n",
       "      <td>0.481082</td>\n",
       "      <td>0.499254</td>\n",
       "      <td>0.484115</td>\n",
       "      <td>0.481939</td>\n",
       "      <td>0.484539</td>\n",
       "      <td>0.482277</td>\n",
       "      <td>0.496418</td>\n",
       "      <td>0.476980</td>\n",
       "    </tr>\n",
       "    <tr>\n",
       "      <th>shaman</th>\n",
       "      <td>0.501467</td>\n",
       "      <td>0.493579</td>\n",
       "      <td>0.514331</td>\n",
       "      <td>0.502595</td>\n",
       "      <td>0.496285</td>\n",
       "      <td>0.504875</td>\n",
       "      <td>0.497927</td>\n",
       "      <td>0.510762</td>\n",
       "      <td>0.504431</td>\n",
       "    </tr>\n",
       "    <tr>\n",
       "      <th>warlock</th>\n",
       "      <td>0.492162</td>\n",
       "      <td>0.506332</td>\n",
       "      <td>0.510062</td>\n",
       "      <td>0.491555</td>\n",
       "      <td>0.494365</td>\n",
       "      <td>0.506532</td>\n",
       "      <td>0.496003</td>\n",
       "      <td>0.505349</td>\n",
       "      <td>0.482116</td>\n",
       "    </tr>\n",
       "    <tr>\n",
       "      <th>warrior</th>\n",
       "      <td>0.490658</td>\n",
       "      <td>0.493252</td>\n",
       "      <td>0.520759</td>\n",
       "      <td>0.497189</td>\n",
       "      <td>0.521228</td>\n",
       "      <td>0.501505</td>\n",
       "      <td>0.501851</td>\n",
       "      <td>0.480517</td>\n",
       "      <td>0.521044</td>\n",
       "    </tr>\n",
       "  </tbody>\n",
       "</table>\n",
       "</div>"
      ],
      "text/plain": [
       "          winrate                                                              \\\n",
       "hero2       druid    hunter      mage   paladin    priest     rogue    shaman   \n",
       "hero1                                                                           \n",
       "druid    0.481535  0.493059  0.499659  0.495676  0.493580  0.498933  0.481967   \n",
       "hunter   0.511360  0.484766  0.501777  0.502375  0.498902  0.497866  0.486868   \n",
       "mage     0.472710  0.490263  0.478505  0.500101  0.492019  0.495812  0.483165   \n",
       "paladin  0.481438  0.489381  0.509378  0.497768  0.513639  0.488758  0.485734   \n",
       "priest   0.510035  0.478049  0.506536  0.505544  0.511002  0.503174  0.498279   \n",
       "rogue    0.480907  0.481082  0.499254  0.484115  0.481939  0.484539  0.482277   \n",
       "shaman   0.501467  0.493579  0.514331  0.502595  0.496285  0.504875  0.497927   \n",
       "warlock  0.492162  0.506332  0.510062  0.491555  0.494365  0.506532  0.496003   \n",
       "warrior  0.490658  0.493252  0.520759  0.497189  0.521228  0.501505  0.501851   \n",
       "\n",
       "                             \n",
       "hero2     warlock   warrior  \n",
       "hero1                        \n",
       "druid    0.509310  0.500472  \n",
       "hunter   0.493590  0.524871  \n",
       "mage     0.480531  0.462521  \n",
       "paladin  0.489486  0.476657  \n",
       "priest   0.497251  0.485901  \n",
       "rogue    0.496418  0.476980  \n",
       "shaman   0.510762  0.504431  \n",
       "warlock  0.505349  0.482116  \n",
       "warrior  0.480517  0.521044  "
      ]
     },
     "execution_count": 109,
     "metadata": {},
     "output_type": "execute_result"
    }
   ],
   "source": [
    "wr"
   ]
  },
  {
   "cell_type": "markdown",
   "metadata": {},
   "source": [
    "# Задание 2"
   ]
  },
  {
   "cell_type": "markdown",
   "metadata": {},
   "source": [
    "\n",
    "По каждой уникальной карте сделать таблицу с полями: name\tpoisonous\tshield\tstealth\ttaunt\tturn\ttype\twindfury hero_name "
   ]
  },
  {
   "attachments": {
    "image.png": {
     "image/png": "[encoded data removed]"
    }
   },
   "cell_type": "markdown",
   "metadata": {},
   "source": [
    "![image.png](attachment:image.png)"
   ]
  },
  {
   "cell_type": "code",
   "execution_count": 4,
   "metadata": {},
   "outputs": [],
   "source": [
    "unique_card_names = df.name.unique()"
   ]
  },
  {
   "cell_type": "code",
   "execution_count": 35,
   "metadata": {},
   "outputs": [],
   "source": [
    "req_fields = ['name', 'poisonous', 'shield', 'stealth', 'taunt', 'turn', 'type', 'windfury', 'hero']\n",
    "records = []\n",
    "for name in unique_card_names:\n",
    "    record = df[df['name'] == name].iloc[0][req_fields]\n",
    "    records.append(pd.DataFrame([record.values], columns=record.index))\n",
    "res_df = pd.concat(records, ignore_index=True)"
   ]
  },
  {
   "cell_type": "code",
   "execution_count": 37,
   "metadata": {},
   "outputs": [],
   "source": [
    "res_df['hero'] = res_df['hero'].apply(lambda x: heroes[x])"
   ]
  },
  {
   "cell_type": "code",
   "execution_count": 41,
   "metadata": {},
   "outputs": [
    {
     "data": {
      "text/html": [
       "<div>\n",
       "<style scoped>\n",
       "    .dataframe tbody tr th:only-of-type {\n",
       "        vertical-align: middle;\n",
       "    }\n",
       "\n",
       "    .dataframe tbody tr th {\n",
       "        vertical-align: top;\n",
       "    }\n",
       "\n",
       "    .dataframe thead th {\n",
       "        text-align: right;\n",
       "    }\n",
       "</style>\n",
       "<table border=\"1\" class=\"dataframe\">\n",
       "  <thead>\n",
       "    <tr style=\"text-align: right;\">\n",
       "      <th></th>\n",
       "      <th>name</th>\n",
       "      <th>poisonous</th>\n",
       "      <th>shield</th>\n",
       "      <th>stealth</th>\n",
       "      <th>taunt</th>\n",
       "      <th>turn</th>\n",
       "      <th>type</th>\n",
       "      <th>windfury</th>\n",
       "      <th>hero</th>\n",
       "    </tr>\n",
       "  </thead>\n",
       "  <tbody>\n",
       "    <tr>\n",
       "      <th>0</th>\n",
       "      <td>Guardian of Kings</td>\n",
       "      <td>0.0</td>\n",
       "      <td>0.0</td>\n",
       "      <td>0.0</td>\n",
       "      <td>0.0</td>\n",
       "      <td>14</td>\n",
       "      <td>MINION</td>\n",
       "      <td>0.0</td>\n",
       "      <td>paladin</td>\n",
       "    </tr>\n",
       "    <tr>\n",
       "      <th>1</th>\n",
       "      <td>Murloc Tidehunter</td>\n",
       "      <td>0.0</td>\n",
       "      <td>0.0</td>\n",
       "      <td>0.0</td>\n",
       "      <td>0.0</td>\n",
       "      <td>14</td>\n",
       "      <td>MINION</td>\n",
       "      <td>0.0</td>\n",
       "      <td>paladin</td>\n",
       "    </tr>\n",
       "    <tr>\n",
       "      <th>2</th>\n",
       "      <td>Truesilver Champion</td>\n",
       "      <td>NaN</td>\n",
       "      <td>NaN</td>\n",
       "      <td>NaN</td>\n",
       "      <td>NaN</td>\n",
       "      <td>14</td>\n",
       "      <td>WEAPON</td>\n",
       "      <td>NaN</td>\n",
       "      <td>paladin</td>\n",
       "    </tr>\n",
       "    <tr>\n",
       "      <th>3</th>\n",
       "      <td>Acidic Swamp Ooze</td>\n",
       "      <td>0.0</td>\n",
       "      <td>0.0</td>\n",
       "      <td>0.0</td>\n",
       "      <td>0.0</td>\n",
       "      <td>14</td>\n",
       "      <td>MINION</td>\n",
       "      <td>0.0</td>\n",
       "      <td>paladin</td>\n",
       "    </tr>\n",
       "    <tr>\n",
       "      <th>4</th>\n",
       "      <td>Stormwind Champion</td>\n",
       "      <td>0.0</td>\n",
       "      <td>0.0</td>\n",
       "      <td>0.0</td>\n",
       "      <td>0.0</td>\n",
       "      <td>14</td>\n",
       "      <td>MINION</td>\n",
       "      <td>0.0</td>\n",
       "      <td>paladin</td>\n",
       "    </tr>\n",
       "    <tr>\n",
       "      <th>5</th>\n",
       "      <td>Chillwind Yeti</td>\n",
       "      <td>0.0</td>\n",
       "      <td>0.0</td>\n",
       "      <td>0.0</td>\n",
       "      <td>0.0</td>\n",
       "      <td>7</td>\n",
       "      <td>MINION</td>\n",
       "      <td>0.0</td>\n",
       "      <td>rogue</td>\n",
       "    </tr>\n",
       "    <tr>\n",
       "      <th>6</th>\n",
       "      <td>Assassin's Blade</td>\n",
       "      <td>NaN</td>\n",
       "      <td>NaN</td>\n",
       "      <td>NaN</td>\n",
       "      <td>NaN</td>\n",
       "      <td>7</td>\n",
       "      <td>WEAPON</td>\n",
       "      <td>NaN</td>\n",
       "      <td>rogue</td>\n",
       "    </tr>\n",
       "    <tr>\n",
       "      <th>7</th>\n",
       "      <td>Assassinate</td>\n",
       "      <td>NaN</td>\n",
       "      <td>NaN</td>\n",
       "      <td>NaN</td>\n",
       "      <td>NaN</td>\n",
       "      <td>7</td>\n",
       "      <td>SPELL</td>\n",
       "      <td>NaN</td>\n",
       "      <td>rogue</td>\n",
       "    </tr>\n",
       "    <tr>\n",
       "      <th>8</th>\n",
       "      <td>Deadly Poison</td>\n",
       "      <td>NaN</td>\n",
       "      <td>NaN</td>\n",
       "      <td>NaN</td>\n",
       "      <td>NaN</td>\n",
       "      <td>7</td>\n",
       "      <td>SPELL</td>\n",
       "      <td>NaN</td>\n",
       "      <td>rogue</td>\n",
       "    </tr>\n",
       "    <tr>\n",
       "      <th>9</th>\n",
       "      <td>Ironbark Protector</td>\n",
       "      <td>0.0</td>\n",
       "      <td>0.0</td>\n",
       "      <td>0.0</td>\n",
       "      <td>1.0</td>\n",
       "      <td>5</td>\n",
       "      <td>MINION</td>\n",
       "      <td>0.0</td>\n",
       "      <td>druid</td>\n",
       "    </tr>\n",
       "    <tr>\n",
       "      <th>10</th>\n",
       "      <td>Sen'jin Shieldmasta</td>\n",
       "      <td>0.0</td>\n",
       "      <td>0.0</td>\n",
       "      <td>0.0</td>\n",
       "      <td>1.0</td>\n",
       "      <td>5</td>\n",
       "      <td>MINION</td>\n",
       "      <td>0.0</td>\n",
       "      <td>druid</td>\n",
       "    </tr>\n",
       "    <tr>\n",
       "      <th>11</th>\n",
       "      <td>Shattered Sun Cleric</td>\n",
       "      <td>0.0</td>\n",
       "      <td>0.0</td>\n",
       "      <td>0.0</td>\n",
       "      <td>0.0</td>\n",
       "      <td>8</td>\n",
       "      <td>MINION</td>\n",
       "      <td>0.0</td>\n",
       "      <td>paladin</td>\n",
       "    </tr>\n",
       "    <tr>\n",
       "      <th>12</th>\n",
       "      <td>Boulderfist Ogre</td>\n",
       "      <td>0.0</td>\n",
       "      <td>0.0</td>\n",
       "      <td>0.0</td>\n",
       "      <td>0.0</td>\n",
       "      <td>8</td>\n",
       "      <td>MINION</td>\n",
       "      <td>0.0</td>\n",
       "      <td>paladin</td>\n",
       "    </tr>\n",
       "    <tr>\n",
       "      <th>13</th>\n",
       "      <td>Consecration</td>\n",
       "      <td>NaN</td>\n",
       "      <td>NaN</td>\n",
       "      <td>NaN</td>\n",
       "      <td>NaN</td>\n",
       "      <td>8</td>\n",
       "      <td>SPELL</td>\n",
       "      <td>NaN</td>\n",
       "      <td>paladin</td>\n",
       "    </tr>\n",
       "    <tr>\n",
       "      <th>14</th>\n",
       "      <td>Razorfen Hunter</td>\n",
       "      <td>0.0</td>\n",
       "      <td>0.0</td>\n",
       "      <td>0.0</td>\n",
       "      <td>0.0</td>\n",
       "      <td>13</td>\n",
       "      <td>MINION</td>\n",
       "      <td>0.0</td>\n",
       "      <td>mage</td>\n",
       "    </tr>\n",
       "    <tr>\n",
       "      <th>15</th>\n",
       "      <td>Kobold Geomancer</td>\n",
       "      <td>0.0</td>\n",
       "      <td>0.0</td>\n",
       "      <td>0.0</td>\n",
       "      <td>0.0</td>\n",
       "      <td>13</td>\n",
       "      <td>MINION</td>\n",
       "      <td>0.0</td>\n",
       "      <td>mage</td>\n",
       "    </tr>\n",
       "    <tr>\n",
       "      <th>16</th>\n",
       "      <td>Bloodfen Raptor</td>\n",
       "      <td>0.0</td>\n",
       "      <td>0.0</td>\n",
       "      <td>0.0</td>\n",
       "      <td>0.0</td>\n",
       "      <td>13</td>\n",
       "      <td>MINION</td>\n",
       "      <td>0.0</td>\n",
       "      <td>mage</td>\n",
       "    </tr>\n",
       "    <tr>\n",
       "      <th>17</th>\n",
       "      <td>Frostwolf Warlord</td>\n",
       "      <td>0.0</td>\n",
       "      <td>0.0</td>\n",
       "      <td>0.0</td>\n",
       "      <td>0.0</td>\n",
       "      <td>9</td>\n",
       "      <td>MINION</td>\n",
       "      <td>0.0</td>\n",
       "      <td>shaman</td>\n",
       "    </tr>\n",
       "    <tr>\n",
       "      <th>18</th>\n",
       "      <td>Bloodlust</td>\n",
       "      <td>NaN</td>\n",
       "      <td>NaN</td>\n",
       "      <td>NaN</td>\n",
       "      <td>NaN</td>\n",
       "      <td>9</td>\n",
       "      <td>SPELL</td>\n",
       "      <td>NaN</td>\n",
       "      <td>shaman</td>\n",
       "    </tr>\n",
       "    <tr>\n",
       "      <th>19</th>\n",
       "      <td>Darkscale Healer</td>\n",
       "      <td>0.0</td>\n",
       "      <td>0.0</td>\n",
       "      <td>0.0</td>\n",
       "      <td>0.0</td>\n",
       "      <td>2</td>\n",
       "      <td>MINION</td>\n",
       "      <td>0.0</td>\n",
       "      <td>druid</td>\n",
       "    </tr>\n",
       "  </tbody>\n",
       "</table>\n",
       "</div>"
      ],
      "text/plain": [
       "                    name  poisonous  shield  stealth  taunt  turn    type  \\\n",
       "0      Guardian of Kings        0.0     0.0      0.0    0.0    14  MINION   \n",
       "1      Murloc Tidehunter        0.0     0.0      0.0    0.0    14  MINION   \n",
       "2    Truesilver Champion        NaN     NaN      NaN    NaN    14  WEAPON   \n",
       "3      Acidic Swamp Ooze        0.0     0.0      0.0    0.0    14  MINION   \n",
       "4     Stormwind Champion        0.0     0.0      0.0    0.0    14  MINION   \n",
       "5         Chillwind Yeti        0.0     0.0      0.0    0.0     7  MINION   \n",
       "6       Assassin's Blade        NaN     NaN      NaN    NaN     7  WEAPON   \n",
       "7            Assassinate        NaN     NaN      NaN    NaN     7   SPELL   \n",
       "8          Deadly Poison        NaN     NaN      NaN    NaN     7   SPELL   \n",
       "9     Ironbark Protector        0.0     0.0      0.0    1.0     5  MINION   \n",
       "10   Sen'jin Shieldmasta        0.0     0.0      0.0    1.0     5  MINION   \n",
       "11  Shattered Sun Cleric        0.0     0.0      0.0    0.0     8  MINION   \n",
       "12      Boulderfist Ogre        0.0     0.0      0.0    0.0     8  MINION   \n",
       "13          Consecration        NaN     NaN      NaN    NaN     8   SPELL   \n",
       "14       Razorfen Hunter        0.0     0.0      0.0    0.0    13  MINION   \n",
       "15      Kobold Geomancer        0.0     0.0      0.0    0.0    13  MINION   \n",
       "16       Bloodfen Raptor        0.0     0.0      0.0    0.0    13  MINION   \n",
       "17     Frostwolf Warlord        0.0     0.0      0.0    0.0     9  MINION   \n",
       "18             Bloodlust        NaN     NaN      NaN    NaN     9   SPELL   \n",
       "19      Darkscale Healer        0.0     0.0      0.0    0.0     2  MINION   \n",
       "\n",
       "    windfury     hero  \n",
       "0        0.0  paladin  \n",
       "1        0.0  paladin  \n",
       "2        NaN  paladin  \n",
       "3        0.0  paladin  \n",
       "4        0.0  paladin  \n",
       "5        0.0    rogue  \n",
       "6        NaN    rogue  \n",
       "7        NaN    rogue  \n",
       "8        NaN    rogue  \n",
       "9        0.0    druid  \n",
       "10       0.0    druid  \n",
       "11       0.0  paladin  \n",
       "12       0.0  paladin  \n",
       "13       NaN  paladin  \n",
       "14       0.0     mage  \n",
       "15       0.0     mage  \n",
       "16       0.0     mage  \n",
       "17       0.0   shaman  \n",
       "18       NaN   shaman  \n",
       "19       0.0    druid  "
      ]
     },
     "execution_count": 41,
     "metadata": {},
     "output_type": "execute_result"
    }
   ],
   "source": [
    "res_df.head(20)"
   ]
  },
  {
   "cell_type": "markdown",
   "metadata": {},
   "source": [
    "# Задание 3\n",
    "\n",
    "Посчитать средний винрейт(средний decision) по каждой карте (среди колод, где данная карта присутствует)"
   ]
  },
  {
   "cell_type": "code",
   "execution_count": 50,
   "metadata": {},
   "outputs": [
    {
     "data": {
      "text/plain": [
       "dict_keys(['player', 'opponent', 'turn', 'decision', 'gamestate_id'])"
      ]
     },
     "execution_count": 50,
     "metadata": {},
     "output_type": "execute_result"
    }
   ],
   "source": [
    "all_records[0].keys()"
   ]
  },
  {
   "cell_type": "code",
   "execution_count": 47,
   "metadata": {},
   "outputs": [
    {
     "data": {
      "text/plain": [
       "dict_keys(['hand', 'played_cards', 'hero', 'stats'])"
      ]
     },
     "execution_count": 47,
     "metadata": {},
     "output_type": "execute_result"
    }
   ],
   "source": [
    "all_records[0]['player'].keys()"
   ]
  },
  {
   "cell_type": "code",
   "execution_count": 54,
   "metadata": {},
   "outputs": [
    {
     "data": {
      "text/plain": [
       "dict_keys(['armor', 'attack', 'hero_card_id', 'hp', 'special_skill_used', 'weapon_durability'])"
      ]
     },
     "execution_count": 54,
     "metadata": {},
     "output_type": "execute_result"
    }
   ],
   "source": [
    "all_records[0]['player']['hero'].keys()"
   ]
  },
  {
   "cell_type": "code",
   "execution_count": 46,
   "metadata": {},
   "outputs": [
    {
     "data": {
      "text/plain": [
       "dict_keys(['crystals_all', 'crystals_current', 'deck_count', 'fatigue_damage', 'hand_count', 'played_minions_count', 'spell_dmg_bonus'])"
      ]
     },
     "execution_count": 46,
     "metadata": {},
     "output_type": "execute_result"
    }
   ],
   "source": [
    "all_records[0]['player']['stats'].keys()"
   ]
  },
  {
   "cell_type": "code",
   "execution_count": 51,
   "metadata": {},
   "outputs": [
    {
     "data": {
      "text/plain": [
       "dict_keys(['played_cards', 'hero', 'stats'])"
      ]
     },
     "execution_count": 51,
     "metadata": {},
     "output_type": "execute_result"
    }
   ],
   "source": [
    "all_records[0]['opponent'].keys()"
   ]
  },
  {
   "cell_type": "code",
   "execution_count": 63,
   "metadata": {},
   "outputs": [
    {
     "name": "stdout",
     "output_type": "stream",
     "text": [
      "CPU times: user 520 ms, sys: 65 µs, total: 520 ms\n",
      "Wall time: 518 ms\n"
     ]
    }
   ],
   "source": [
    "%%time\n",
    "cards_winrate = df.groupby('name')['decision'].apply(np.mean)"
   ]
  },
  {
   "cell_type": "code",
   "execution_count": 68,
   "metadata": {},
   "outputs": [
    {
     "data": {
      "text/plain": [
       "(28, 50)"
      ]
     },
     "execution_count": 68,
     "metadata": {},
     "output_type": "execute_result"
    }
   ],
   "source": [
    "(cards_winrate > .50).sum(), (cards_winrate < .50).sum()"
   ]
  },
  {
   "cell_type": "code",
   "execution_count": 69,
   "metadata": {},
   "outputs": [
    {
     "data": {
      "text/plain": [
       "name\n",
       "Acidic Swamp Ooze    0.494378\n",
       "Animal Companion     0.502792\n",
       "Arcane Intellect     0.483004\n",
       "Arcane Shot          0.467287\n",
       "Arcanite Reaper      0.490568\n",
       "Name: decision, dtype: float64"
      ]
     },
     "execution_count": 69,
     "metadata": {},
     "output_type": "execute_result"
    }
   ],
   "source": [
    "cards_winrate.head()"
   ]
  },
  {
   "cell_type": "code",
   "execution_count": null,
   "metadata": {},
   "outputs": [],
   "source": []
  }
 ],
 "metadata": {
  "kernelspec": {
   "display_name": "Python 3",
   "language": "python",
   "name": "python3"
  },
  "language_info": {
   "codemirror_mode": {
    "name": "ipython",
    "version": 3
   },
   "file_extension": ".py",
   "mimetype": "text/x-python",
   "name": "python",
   "nbconvert_exporter": "python",
   "pygments_lexer": "ipython3",
   "version": "3.6.5"
  }
 },
 "nbformat": 4,
 "nbformat_minor": 2
}
